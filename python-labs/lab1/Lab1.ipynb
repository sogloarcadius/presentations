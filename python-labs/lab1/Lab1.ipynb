{
 "cells": [
  {
   "cell_type": "markdown",
   "metadata": {},
   "source": [
    "## Zen of Python by Tim Peters"
   ]
  },
  {
   "cell_type": "code",
   "execution_count": 1,
   "metadata": {},
   "outputs": [
    {
     "name": "stdout",
     "output_type": "stream",
     "text": [
      "The Zen of Python, by Tim Peters\n",
      "\n",
      "Beautiful is better than ugly.\n",
      "Explicit is better than implicit.\n",
      "Simple is better than complex.\n",
      "Complex is better than complicated.\n",
      "Flat is better than nested.\n",
      "Sparse is better than dense.\n",
      "Readability counts.\n",
      "Special cases aren't special enough to break the rules.\n",
      "Although practicality beats purity.\n",
      "Errors should never pass silently.\n",
      "Unless explicitly silenced.\n",
      "In the face of ambiguity, refuse the temptation to guess.\n",
      "There should be one-- and preferably only one --obvious way to do it.\n",
      "Although that way may not be obvious at first unless you're Dutch.\n",
      "Now is better than never.\n",
      "Although never is often better than *right* now.\n",
      "If the implementation is hard to explain, it's a bad idea.\n",
      "If the implementation is easy to explain, it may be a good idea.\n",
      "Namespaces are one honking great idea -- let's do more of those!\n"
     ]
    }
   ],
   "source": [
    "import this"
   ]
  },
  {
   "cell_type": "markdown",
   "metadata": {},
   "source": [
    "## Variables"
   ]
  },
  {
   "cell_type": "code",
   "execution_count": 10,
   "metadata": {},
   "outputs": [
    {
     "name": "stdout",
     "output_type": "stream",
     "text": [
      "2019\n",
      "1994\n",
      "3.14\n",
      "Arcadius SOGLO\n",
      "\n",
      "\n",
      "Current year is 2019\n",
      "Year of birth is 1994\n",
      "The value of pi is 3.14\n",
      "My name is Arcadius SOGLO\n",
      "\n",
      "\n",
      "25\n",
      "My age is 25\n"
     ]
    }
   ],
   "source": [
    "#TODO: Créer les variables current_year, year_of_birth, pi, my_name et les afficher à la console\n",
    "\n",
    "current_year = 2019\n",
    "\n",
    "year_of_birth = 1994\n",
    "\n",
    "pi = 3.14\n",
    "\n",
    "my_name = \"Arcadius SOGLO\"\n",
    "\n",
    "print(current_year, year_of_birth, pi, my_name, sep=\"\\n\")\n",
    "print(\"\\n\")\n",
    "print(\"Current year is %s\" %(current_year))\n",
    "print(\"Year of birth is %s\" %(year_of_birth))\n",
    "print(\"The value of pi is %s\" %(pi))\n",
    "print(\"My name is %s\" %(my_name))\n",
    "\n",
    "\n",
    "# TODO:Créer la variable my_age qui calcul votre age en année et l'afficher\n",
    "\n",
    "my_age = current_year - year_of_birth\n",
    "\n",
    "print(\"\\n\")\n",
    "print(my_age)\n",
    "print(\"My age is %s\" %(my_age))\n",
    "\n"
   ]
  },
  {
   "cell_type": "markdown",
   "metadata": {},
   "source": [
    "## Math"
   ]
  },
  {
   "cell_type": "code",
   "execution_count": 16,
   "metadata": {},
   "outputs": [
    {
     "name": "stdout",
     "output_type": "stream",
     "text": [
      "\n",
      "\n",
      "Le périmetre d'un cercle de rayon r=1 est 6.28\n",
      "\n",
      "\n",
      "L'aire d'un cercle de rayon r=1 est 3.14\n"
     ]
    }
   ],
   "source": [
    "## Calculer le périmetre d'un cercle de rayon r=1 (perimetre_cercle = 2*pi*r = 2 * diametre)\n",
    "\n",
    "perimetre_cercle = 2 * 3.14 * 1\n",
    "\n",
    "print(\"\\n\")\n",
    "print(\"Le périmetre d'un cercle de rayon r=1 est %s\" %(perimetre_cercle))\n",
    "\n",
    "\n",
    "## Calculer l'aire d'un cercle de rayon r=1 (aire = pi * r*r)\n",
    "\n",
    "aire_cercle = 3.14 * 1 * 1\n",
    "\n",
    "print(\"\\n\")\n",
    "print(\"L'aire d'un cercle de rayon r=1 est %s\" %(aire_cercle))\n"
   ]
  }
 ],
 "metadata": {
  "kernelspec": {
   "display_name": "Python 3",
   "language": "python",
   "name": "python3"
  },
  "language_info": {
   "codemirror_mode": {
    "name": "ipython",
    "version": 3
   },
   "file_extension": ".py",
   "mimetype": "text/x-python",
   "name": "python",
   "nbconvert_exporter": "python",
   "pygments_lexer": "ipython3",
   "version": "3.4.3"
  }
 },
 "nbformat": 4,
 "nbformat_minor": 2
}

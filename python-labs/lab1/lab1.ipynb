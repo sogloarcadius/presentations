{
 "cells": [
  {
   "cell_type": "markdown",
   "metadata": {},
   "source": [
    "# Variables"
   ]
  },
  {
   "cell_type": "markdown",
   "metadata": {},
   "source": [
    "## Zen of Python by Tim Peters"
   ]
  },
  {
   "cell_type": "code",
   "execution_count": null,
   "metadata": {},
   "outputs": [],
   "source": [
    "import this"
   ]
  },
  {
   "cell_type": "markdown",
   "metadata": {},
   "source": [
    "## Créer les variables suivants et les afficher à la console\n",
    "\n",
    "- current_year\n",
    "- year_of_birth\n",
    "- pi\n",
    "- my_name \n"
   ]
  },
  {
   "cell_type": "code",
   "execution_count": null,
   "metadata": {},
   "outputs": [],
   "source": [
    "current_year = 2019\n",
    "\n",
    "year_of_birth = 1994\n",
    "\n",
    "pi = 3.14\n",
    "\n",
    "my_name = \"Arcadius SOGLO\"\n",
    "\n",
    "print(current_year, year_of_birth, pi, my_name, sep=\"\\n\")\n",
    "print(\"\\n\")\n",
    "print(\"Current year is %s\" %(current_year))\n",
    "print(\"Year of birth is %s\" %(year_of_birth))\n",
    "print(\"The value of pi is %s\" %(pi))\n",
    "print(\"My name is %s\" %(my_name))"
   ]
  },
  {
   "cell_type": "markdown",
   "metadata": {},
   "source": [
    "## Créer la variable my_age qui calcul votre age en année et l'afficher"
   ]
  },
  {
   "cell_type": "code",
   "execution_count": null,
   "metadata": {},
   "outputs": [],
   "source": [
    "my_age = current_year - year_of_birth\n",
    "\n",
    "print(\"\\n\")\n",
    "print(my_age)\n",
    "print(\"My age is %s\" %(my_age))"
   ]
  }
 ],
 "metadata": {
  "kernelspec": {
   "display_name": "Python 3",
   "language": "python",
   "name": "python3"
  },
  "language_info": {
   "codemirror_mode": {
    "name": "ipython",
    "version": 3
   },
   "file_extension": ".py",
   "mimetype": "text/x-python",
   "name": "python",
   "nbconvert_exporter": "python",
   "pygments_lexer": "ipython3",
   "version": "3.4.3"
  }
 },
 "nbformat": 4,
 "nbformat_minor": 2
}

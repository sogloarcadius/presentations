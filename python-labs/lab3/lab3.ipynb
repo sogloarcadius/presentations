{
 "cells": [
  {
   "cell_type": "markdown",
   "metadata": {},
   "source": [
    "# Controle flux d'exécution"
   ]
  },
  {
   "cell_type": "markdown",
   "metadata": {},
   "source": [
    "## Afficher les éléments de la liste à la console"
   ]
  },
  {
   "cell_type": "code",
   "execution_count": null,
   "metadata": {},
   "outputs": [],
   "source": [
    "days = ['lundi', 'mardi', 'mercredi', 'jeudi', 'vendredi']\n",
    "\n",
    "for day in days:\n",
    "    print(day)"
   ]
  },
  {
   "cell_type": "markdown",
   "metadata": {},
   "source": [
    "## Afficher la somme des puissances de deux (les dix premieres valeurs)"
   ]
  },
  {
   "cell_type": "code",
   "execution_count": null,
   "metadata": {},
   "outputs": [],
   "source": [
    "# Solution while\n",
    "\n",
    "counter = 10\n",
    "i = 0\n",
    "total = 0\n",
    "\n",
    "while i < 10:\n",
    "    print(\"i : %s\" %(i))\n",
    "    print(\"2^i : %s\" %(2**i))\n",
    "    total = total + 2**i\n",
    "    print(\"Total : %s\" %(total))\n",
    "    i = i + 1\n",
    "    "
   ]
  },
  {
   "cell_type": "code",
   "execution_count": null,
   "metadata": {},
   "outputs": [],
   "source": [
    "# Solution for\n",
    "\n",
    "total = 0\n",
    "\n",
    "for j in range(0,10):\n",
    "    print(\"j : %s\" %(j))\n",
    "    print(\"2^j : %s\" %(2**j))\n",
    "    total = total + 2**j\n",
    "    print(\"Total : %s\" %(total))\n",
    "    \n",
    "    \n",
    "    "
   ]
  },
  {
   "cell_type": "markdown",
   "metadata": {},
   "source": [
    "## Afficher la somme de la population des villes francaises suivants"
   ]
  },
  {
   "cell_type": "code",
   "execution_count": null,
   "metadata": {},
   "outputs": [],
   "source": [
    "population = {\n",
    "    'Paris': 2190327,\n",
    "    'Marseille': 862211,\n",
    "    'Lyon': 515695,\n",
    "    'Toulouse': 475438,\n",
    "    'Nice': 342637,\n",
    "    'Nantes': 306694,\n",
    "    'Montpellier': 281613,\n",
    "    'Strasbourg': 279284,\n",
    "    'Bordeaux': 252040,\n",
    "    'Lille': 232440,\n",
    "    'Rennes': 216268\n",
    "    \n",
    "}\n",
    "\n",
    "# Solution 1\n",
    "print(sum(population.values()))\n",
    "\n",
    "# Solution 2 \n",
    "total_population = 0\n",
    "for key,value in population.items():\n",
    "    # total_population = total_population + value\n",
    "    total_population += value\n",
    "print(total_population)\n",
    "\n",
    "\n"
   ]
  },
  {
   "cell_type": "markdown",
   "metadata": {},
   "source": [
    "## Quelle est la ville la plus peuplé "
   ]
  },
  {
   "cell_type": "code",
   "execution_count": null,
   "metadata": {},
   "outputs": [],
   "source": [
    "population = {\n",
    "    'Paris': 2190327,\n",
    "    'Marseille': 862211,\n",
    "    'Lyon': 515695,\n",
    "    'Toulouse': 475438,\n",
    "    'Nice': 342637,\n",
    "    'Nantes': 306694,\n",
    "    'Montpellier': 281613,\n",
    "    'Strasbourg': 279284,\n",
    "    'Bordeaux': 252040,\n",
    "    'Lille': 232440,\n",
    "    'Rennes': 216268\n",
    "    \n",
    "}\n",
    "\n",
    "# on cherche le max des values et on retourne la clé\n",
    "\n",
    "# solution 1\n",
    "\n",
    "max_value = 0\n",
    "max_key = \"\"\n",
    "\n",
    "for key,value in population.items():\n",
    "    if value > max_value:\n",
    "        max_value = value\n",
    "        max_key = key\n",
    "        \n",
    "print(max_key)\n",
    "\n",
    "# solution 2\n",
    "\n",
    "population_values =  population.values()\n",
    "max_population = max(population_values)\n",
    "\n",
    "for key,value in population.items():\n",
    "    if value == max_population:\n",
    "        print(key)\n"
   ]
  }
 ],
 "metadata": {
  "kernelspec": {
   "display_name": "Python 3",
   "language": "python",
   "name": "python3"
  },
  "language_info": {
   "codemirror_mode": {
    "name": "ipython",
    "version": 3
   },
   "file_extension": ".py",
   "mimetype": "text/x-python",
   "name": "python",
   "nbconvert_exporter": "python",
   "pygments_lexer": "ipython3",
   "version": "3.4.3"
  }
 },
 "nbformat": 4,
 "nbformat_minor": 2
}

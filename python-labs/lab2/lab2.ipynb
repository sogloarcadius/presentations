{
 "cells": [
  {
   "cell_type": "markdown",
   "metadata": {},
   "source": [
    "# Opérateurs"
   ]
  },
  {
   "cell_type": "markdown",
   "metadata": {},
   "source": [
    "Rappel de la priorité des opérateurs\n",
    "\n",
    "**P**arenthese - **E**xposant - **M**ultiplication - **D**ivision - **A**ddition - **S**oustraction"
   ]
  },
  {
   "cell_type": "markdown",
   "metadata": {},
   "source": [
    "## Zen of Python by Tim Peters"
   ]
  },
  {
   "cell_type": "code",
   "execution_count": null,
   "metadata": {},
   "outputs": [],
   "source": [
    "import this"
   ]
  },
  {
   "cell_type": "markdown",
   "metadata": {},
   "source": [
    "## Faite la division de 5.75 par 2"
   ]
  },
  {
   "cell_type": "code",
   "execution_count": null,
   "metadata": {},
   "outputs": [],
   "source": [
    "5.75 / 2"
   ]
  },
  {
   "cell_type": "markdown",
   "metadata": {},
   "source": [
    "## Faite la division entiere de 5.75 par 2"
   ]
  },
  {
   "cell_type": "code",
   "execution_count": null,
   "metadata": {},
   "outputs": [],
   "source": [
    "5.75 // 2"
   ]
  },
  {
   "cell_type": "markdown",
   "metadata": {},
   "source": [
    "## Calculer le périmetre d'un cercle de rayon r=1\n",
    "\n",
    "\n",
    "perimetre_cercle = 2`*`pi`*`r\n",
    "\n",
    "perimetre_cercle = 2 * diametre\n"
   ]
  },
  {
   "cell_type": "code",
   "execution_count": null,
   "metadata": {},
   "outputs": [],
   "source": [
    "rayon = 1\n",
    "\n",
    "pi = 3.14\n",
    "\n",
    "perimetre_cercle = 2 * pi * rayon\n",
    "\n",
    "print(\"\\n\")\n",
    "print(\"Le périmetre d'un cercle de rayon r=1 est %s\" %(perimetre_cercle))"
   ]
  },
  {
   "cell_type": "markdown",
   "metadata": {},
   "source": [
    "## Calculer l'aire d'un cercle de rayon r=1 \n",
    "\n",
    "aire = pi `*` r `*` r "
   ]
  },
  {
   "cell_type": "code",
   "execution_count": null,
   "metadata": {},
   "outputs": [],
   "source": [
    "pi = 3.14\n",
    "\n",
    "rayon = 2\n",
    "\n",
    "aire_cercle = pi * rayon**2\n",
    "\n",
    "print(\"\\n\")\n",
    "print(\"L'aire d'un cercle de rayon r=1 est %s\" %(aire_cercle))"
   ]
  },
  {
   "cell_type": "markdown",
   "metadata": {},
   "source": [
    "## Confirmer que 2 est un nombre pair et 3 un nombre impair\n",
    "\n",
    "Un nombre est pair si le reste de la division par 2 est égale à zéro"
   ]
  },
  {
   "cell_type": "code",
   "execution_count": null,
   "metadata": {},
   "outputs": [],
   "source": [
    "nombre_pair = 4\n",
    "nombre_impair = 5\n",
    "\n",
    "print(nombre_pair % 2)\n",
    "print(nombre_impair % 2)\n"
   ]
  },
  {
   "cell_type": "markdown",
   "metadata": {},
   "source": [
    "## Faire les tests suivants\n",
    "\n",
    "- 3 exposant 2 est supérieur à 2 exposant 3\n",
    "- 2 exposant 2 égale à 4\n",
    "- -1 est plus grand que -2\n",
    "- 2 exposant 10 est plus grand ou égale à 1000\n",
    "- 6 est inférieur ou égale à 7\n",
    "- Vrai et Vrai\n",
    "- Vrai et Faux\n",
    "- Vrai ou Vrai\n",
    "- Vrai ou Faux"
   ]
  },
  {
   "cell_type": "code",
   "execution_count": null,
   "metadata": {},
   "outputs": [],
   "source": [
    "print(3**2 > 2**3)\n",
    "print(2**2 == 4)\n",
    "print(-1 > -2)\n",
    "print(2**10 >= 1000)\n",
    "print(6 <= 7)\n",
    "print(True and True)\n",
    "print(True and False)\n",
    "print(True or True)\n",
    "print(True or False)"
   ]
  }
 ],
 "metadata": {
  "kernelspec": {
   "display_name": "Python 3",
   "language": "python",
   "name": "python3"
  },
  "language_info": {
   "codemirror_mode": {
    "name": "ipython",
    "version": 3
   },
   "file_extension": ".py",
   "mimetype": "text/x-python",
   "name": "python",
   "nbconvert_exporter": "python",
   "pygments_lexer": "ipython3",
   "version": "3.4.3"
  }
 },
 "nbformat": 4,
 "nbformat_minor": 2
}
